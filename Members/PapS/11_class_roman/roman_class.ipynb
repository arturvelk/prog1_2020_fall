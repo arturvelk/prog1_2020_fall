{
 "cells": [
  {
   "cell_type": "code",
   "execution_count": 27,
   "metadata": {
    "ExecuteTime": {
     "end_time": "2020-11-28T11:22:50.124830Z",
     "start_time": "2020-11-28T11:22:50.103828Z"
    }
   },
   "outputs": [],
   "source": [
    "class Roman:\n",
    "    \n",
    "    def __init__(self, num):\n",
    "        \n",
    "        rom_value = {'I': 1, 'V': 5, 'X': 10, 'L': 50, 'C': 100, 'D': 500, 'M': 1000}\n",
    "        \n",
    "        def rom2ar(rom_string):\n",
    "            ar = 0\n",
    "\n",
    "            for i_rom in range(len(rom_string) - 1):\n",
    "\n",
    "                rom = rom_value[rom_string[i_rom]]\n",
    "                rom_next = rom_value[rom_string[i_rom + 1]]\n",
    "\n",
    "                if rom >= rom_next:\n",
    "                    ar += rom\n",
    "                else:\n",
    "                    ar -= rom\n",
    "\n",
    "            ar += rom_value[rom_string[-1]]\n",
    "            return ar\n",
    "        \n",
    "        def pv2rom(pv, upper, middle, unit):\n",
    "            if pv == 9:\n",
    "                return unit + upper\n",
    "            elif pv >= 5:\n",
    "                return middle + (pv - 5) * unit\n",
    "            elif pv == 4:\n",
    "                return unit + middle\n",
    "            else:\n",
    "                return pv * unit\n",
    "\n",
    "        def ar2rom(rom_int):\n",
    "\n",
    "            rom = ''\n",
    "\n",
    "        #   Ezres helyiérték (vagy felette)\n",
    "            if rom_int >= 1000:\n",
    "                rom += int(str(rom_int)[:-3]) * 'M'\n",
    "\n",
    "        #   Százas helyiérték\n",
    "            if rom_int >= 100:\n",
    "                rom += pv2rom(int(str(rom_int)[-3]), 'M', 'D', 'C')\n",
    "\n",
    "        #   Tízes helyiérték\n",
    "            if rom_int >= 10:\n",
    "                rom += pv2rom(int(str(rom_int)[-2]), 'C', 'L', 'X')\n",
    "\n",
    "            rom += pv2rom(int(str(rom_int)[-1]), 'X', 'V', 'I')\n",
    "\n",
    "            return rom\n",
    "    \n",
    "        if isinstance(num, str):\n",
    "            self.roman = num\n",
    "            self.arab = rom2ar(num)\n",
    "        \n",
    "        if isinstance(num, int):\n",
    "            self.arab = num\n",
    "            self.roman = ar2rom(num)"
   ]
  },
  {
   "cell_type": "code",
   "execution_count": 33,
   "metadata": {
    "ExecuteTime": {
     "end_time": "2020-11-28T11:23:29.895066Z",
     "start_time": "2020-11-28T11:23:29.890070Z"
    }
   },
   "outputs": [],
   "source": [
    "romaiNum = Roman(12321)"
   ]
  },
  {
   "cell_type": "code",
   "execution_count": 39,
   "metadata": {
    "ExecuteTime": {
     "end_time": "2020-11-28T11:23:35.185292Z",
     "start_time": "2020-11-28T11:23:35.176297Z"
    }
   },
   "outputs": [
    {
     "name": "stdout",
     "output_type": "stream",
     "text": [
      "12321\n",
      "MMMMMMMMMMMMCCCXXI\n"
     ]
    }
   ],
   "source": [
    "print(romaiNum.arab)\n",
    "print(romaiNum.roman)"
   ]
  }
 ],
 "metadata": {
  "hide_input": false,
  "kernelspec": {
   "display_name": "Python 3",
   "language": "python",
   "name": "python3"
  },
  "language_info": {
   "codemirror_mode": {
    "name": "ipython",
    "version": 3
   },
   "file_extension": ".py",
   "mimetype": "text/x-python",
   "name": "python",
   "nbconvert_exporter": "python",
   "pygments_lexer": "ipython3",
   "version": "3.8.6"
  },
  "toc": {
   "base_numbering": 1,
   "nav_menu": {},
   "number_sections": true,
   "sideBar": true,
   "skip_h1_title": false,
   "title_cell": "Table of Contents",
   "title_sidebar": "Contents",
   "toc_cell": false,
   "toc_position": {},
   "toc_section_display": true,
   "toc_window_display": false
  },
  "varInspector": {
   "cols": {
    "lenName": 16,
    "lenType": 16,
    "lenVar": 40
   },
   "kernels_config": {
    "python": {
     "delete_cmd_postfix": "",
     "delete_cmd_prefix": "del ",
     "library": "var_list.py",
     "varRefreshCmd": "print(var_dic_list())"
    },
    "r": {
     "delete_cmd_postfix": ") ",
     "delete_cmd_prefix": "rm(",
     "library": "var_list.r",
     "varRefreshCmd": "cat(var_dic_list()) "
    }
   },
   "types_to_exclude": [
    "module",
    "function",
    "builtin_function_or_method",
    "instance",
    "_Feature"
   ],
   "window_display": false
  }
 },
 "nbformat": 4,
 "nbformat_minor": 4
}
