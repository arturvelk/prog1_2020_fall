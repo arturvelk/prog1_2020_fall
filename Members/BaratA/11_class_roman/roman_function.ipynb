{
 "cells": [
  {
   "cell_type": "code",
   "execution_count": null,
   "metadata": {},
   "outputs": [],
   "source": [
    "import requests\n",
    "from bs4 import BeautifulSoup\n",
    "import pandas as pd"
   ]
  },
  {
   "cell_type": "code",
   "execution_count": null,
   "metadata": {},
   "outputs": [],
   "source": [
    "roms = pd.concat([pd.DataFrame(\n",
    "    [{'arab':a.text.split()[0],'roman':a.text.split()[1]} for a in \\\n",
    " BeautifulSoup(requests.get('https://smorgasborg.artlung.com/roman-numerals/page/%d' % p) \\\n",
    "              .content,'html5lib').find('pre').find_all('a')]) for p in range(1,11)])"
   ]
  },
  {
   "cell_type": "code",
   "execution_count": null,
   "metadata": {},
   "outputs": [],
   "source": [
    "roms = roms[roms['arab'] != '0']"
   ]
  },
  {
   "cell_type": "code",
   "execution_count": null,
   "metadata": {},
   "outputs": [],
   "source": [
    "def rom2ar_test(fun): # ez azokat az eseteket adja vissza, ahol az átváltás helytelen\n",
    "    calc = roms['roman'].apply(fun)\n",
    "    tru = roms['arab'].apply(int)\n",
    "    return roms[calc != tru]"
   ]
  },
  {
   "cell_type": "code",
   "execution_count": 61,
   "metadata": {},
   "outputs": [],
   "source": [
    "def rom2ar(rom_string):\n",
    "    number_d = {\"I\":1,\"V\":5,\"X\":10,\"L\":50,\"C\":100,\"D\":500,\"M\":1000}\n",
    "    conversion_table = []\n",
    "    first = 0\n",
    "    second = 1\n",
    "    if len(rom_string) < 2:\n",
    "        return number_d[rom_string]\n",
    "    else:\n",
    "        while first < len(rom_string):\n",
    "            if second > len(rom_string) - 1:\n",
    "                second = first\n",
    "            if number_d[rom_string[first]] < number_d[rom_string[second]]:\n",
    "                conversion_table.append(number_d[rom_string[second]] - number_d[rom_string[first]])\n",
    "                first += 2\n",
    "                second += 2\n",
    "            else:\n",
    "                conversion_table.append(number_d[rom_string[first]])\n",
    "                first += 1\n",
    "                second += 1\n",
    "        return sum(conversion_table)"
   ]
  },
  {
   "cell_type": "code",
   "execution_count": 63,
   "metadata": {},
   "outputs": [
    {
     "output_type": "execute_result",
     "data": {
      "text/plain": [
       "Empty DataFrame\n",
       "Columns: [arab, roman]\n",
       "Index: []"
      ],
      "text/html": "<div>\n<style scoped>\n    .dataframe tbody tr th:only-of-type {\n        vertical-align: middle;\n    }\n\n    .dataframe tbody tr th {\n        vertical-align: top;\n    }\n\n    .dataframe thead th {\n        text-align: right;\n    }\n</style>\n<table border=\"1\" class=\"dataframe\">\n  <thead>\n    <tr style=\"text-align: right;\">\n      <th></th>\n      <th>arab</th>\n      <th>roman</th>\n    </tr>\n  </thead>\n  <tbody>\n  </tbody>\n</table>\n</div>"
     },
     "metadata": {},
     "execution_count": 63
    }
   ],
   "source": [
    "rom2ar_test(rom2ar)"
   ]
  },
  {
   "cell_type": "code",
   "execution_count": 81,
   "metadata": {},
   "outputs": [],
   "source": [
    "class Roman:\n",
    "    \n",
    "    def __init__(self, c):\n",
    "        \n",
    "        if isinstance(c, str):\n",
    "            self.rom = c\n",
    "            self.num = 5\n",
    "        \n",
    "        elif isinstance(c, int):\n",
    "            self.rom = \"V\"\n",
    "            self.num = c\n",
    "            \n",
    "        \n",
    "    def add_other_num(self, x):\n",
    "        self.num += x\n",
    "        \n",
    "    def num_to_rom(self):\n",
    "        \"wudu\"\n",
    "        self.rom = \"XXV\"\n",
    "        \n",
    "    def rom_to_num(self, rom_string = None):\n",
    "        if rom_string == None:\n",
    "            rom_string = self.rom\n",
    "        number_d = {\"I\":1,\"V\":5,\"X\":10,\"L\":50,\"C\":100,\"D\":500,\"M\":1000}\n",
    "        conversion_table = []\n",
    "        first = 0\n",
    "        second = 1\n",
    "        if len(rom_string) < 2:\n",
    "            return number_d[rom_string]\n",
    "        else:\n",
    "            while first < len(rom_string):\n",
    "                if second > len(rom_string) - 1:\n",
    "                    second = first\n",
    "                if number_d[rom_string[first]] < number_d[rom_string[second]]:\n",
    "                    conversion_table.append(number_d[rom_string[second]] - number_d[rom_string[first]])\n",
    "                    first += 2\n",
    "                    second += 2\n",
    "                else:\n",
    "                    conversion_table.append(number_d[rom_string[first]])\n",
    "                    first += 1\n",
    "                    second += 1\n",
    "            return sum(conversion_table)"
   ]
  }
 ],
 "metadata": {
  "kernelspec": {
   "name": "python3",
   "display_name": "Python 3.8.2 64-bit",
   "metadata": {
    "interpreter": {
     "hash": "31f2aee4e71d21fbe5cf8b01ff0e069b9275f58929596ceb00d14d90e3e16cd6"
    }
   }
  },
  "language_info": {
   "codemirror_mode": {
    "name": "ipython",
    "version": 3
   },
   "file_extension": ".py",
   "mimetype": "text/x-python",
   "name": "python",
   "nbconvert_exporter": "python",
   "pygments_lexer": "ipython3",
   "version": "3.8.2-final"
  }
 },
 "nbformat": 4,
 "nbformat_minor": 4
}