{
 "cells": [
  {
   "cell_type": "markdown",
   "metadata": {},
   "source": [
    "### feladat: írjatok egy függvényt, ami:\n",
    "- két listát fogad paraméternek, melyek egy-egy múltbéli dátumot tartalmaznak\n",
    "- mindkét lista három elemű az első az évet, a 2. a hónapot a 3. pedig a napot jelöli\n",
    "- a függvény visszatérési értéke pedig két szám ami a mai dátum és a bemeneti paraméterként megadott két dátum között eltelt napok száma"
   ]
  },
  {
   "cell_type": "markdown",
   "metadata": {},
   "source": [
    "#### Segítség:\n",
    "- Figyeljetek rá, hogy Pythonban **nullától kezdődik az indexelés**!\n",
    "- Lista elemeire a következő képpen hivatkozunk: lista_valtozo[0] - visszaadja az első elemet, lista_valtozo[1] - visszaadja a második elemet ...\n",
    "- 31 napos hónapok: [1, 3, 5, 7, 8, 10, 12]\n",
    "- Létezik az in operátor, ami azt vizsgálja meg, hogy egy adott érték eleme e egy másoknak.\n",
    "- Pl. \"a\" in \"asd\" kifejezés értéke True, ezt listákra is lehet alkalmazni"
   ]
  },
  {
   "cell_type": "markdown",
   "metadata": {},
   "source": [
    "----------------------------"
   ]
  },
  {
   "cell_type": "markdown",
   "metadata": {},
   "source": [
    "**ezek lesznek a függvény paraméterei (futtasátok a cellát Ctrl + Enter-rel)**"
   ]
  },
  {
   "cell_type": "code",
   "execution_count": 354,
   "metadata": {
    "ExecuteTime": {
     "end_time": "2020-11-29T19:42:24.668521Z",
     "start_time": "2020-11-29T19:42:24.663522Z"
    }
   },
   "outputs": [],
   "source": [
    "input_list1 = [1970, 3, 20]\n",
    "input_list2 = [1905, 3, 29]"
   ]
  },
  {
   "cell_type": "markdown",
   "metadata": {},
   "source": [
    "**ennél pedig remélhetőleg írtok egy jobb függvényt :)**\n",
    "\n",
    "utána az előzőhöz hasonlóan futtassátok a cellát Ctrl+Enter-rel"
   ]
  },
  {
   "cell_type": "code",
   "execution_count": 355,
   "metadata": {
    "ExecuteTime": {
     "end_time": "2020-11-29T19:42:25.710114Z",
     "start_time": "2020-11-29T19:42:25.691111Z"
    }
   },
   "outputs": [],
   "source": [
    "import datetime\n",
    "\n",
    "def own_func(p1, p2):\n",
    "    most = datetime.datetime.now()\n",
    "    most_datum = [most.year, most.month, most.day] \n",
    "    \n",
    "    szokoev = lambda ev: (ev % 4 == 0 and ev % 100 != 0) or (ev % 400 == 0)\n",
    "        \n",
    "    def krisztustol(date):\n",
    "        tobb_nap = [1, 3, 5, 7, 8, 10, 12]\n",
    "        \n",
    "        evek = date[0] * 365\n",
    "        evek += len([*filter(szokoev, [*range(0, date[0])])])\n",
    "            \n",
    "        honapok = 0\n",
    "        for honap in range(1, date[1]):\n",
    "            if honap == 2:\n",
    "                honapok += 28\n",
    "            elif honap in tobb_nap:\n",
    "                honapok += 31\n",
    "            else:\n",
    "                honapok += 30\n",
    "        \n",
    "        if (date[1] > 2) and szokoev(date[0]):\n",
    "            honapok += 1\n",
    "            \n",
    "        napok = date[2]\n",
    "        \n",
    "        return evek + honapok + napok\n",
    "    \n",
    "    return abs(krisztustol(p1) - krisztustol(most_datum)), abs(krisztustol(p2) - krisztustol(most_datum))"
   ]
  },
  {
   "cell_type": "code",
   "execution_count": 356,
   "metadata": {
    "ExecuteTime": {
     "end_time": "2020-11-29T19:42:26.360101Z",
     "start_time": "2020-11-29T19:42:26.346108Z"
    },
    "scrolled": true
   },
   "outputs": [
    {
     "data": {
      "text/plain": [
       "(18517, 42249)"
      ]
     },
     "execution_count": 356,
     "metadata": {},
     "output_type": "execute_result"
    }
   ],
   "source": [
    "own_func(input_list1, input_list2)"
   ]
  },
  {
   "cell_type": "markdown",
   "metadata": {},
   "source": [
    "----------------------------"
   ]
  },
  {
   "cell_type": "markdown",
   "metadata": {},
   "source": [
    "### itt tudjátok leellenőrizni, hogy jó-e a függvény, amit írtatok\n",
    "\n",
    "- az own_func helyére írjátok be a saját függvényetek nevét\n",
    "- a p1 és p2 helyére írjatok tetszőleges paramétereket: két listát **[év, hónap, nap] formátumban!**), ezzel ellenőrzitek a függvényt\n",
    "- futtassátok a cellát Ctrl + Enter-rel!"
   ]
  },
  {
   "cell_type": "code",
   "execution_count": 357,
   "metadata": {
    "ExecuteTime": {
     "end_time": "2020-11-29T19:42:28.041316Z",
     "start_time": "2020-11-29T19:42:28.028314Z"
    }
   },
   "outputs": [
    {
     "name": "stdout",
     "output_type": "stream",
     "text": [
      "Gratulálok! Megoldottad a feladatot!\n"
     ]
    }
   ],
   "source": [
    "from func import check_day\n",
    "check_day(own_func, input_list1, input_list2)"
   ]
  },
  {
   "cell_type": "markdown",
   "metadata": {},
   "source": [
    "### func.py függvény javítása\n",
    "Ez a lenti függvény a check_day fv mögötti algoritmus. (ld. func.py)"
   ]
  },
  {
   "cell_type": "code",
   "execution_count": 358,
   "metadata": {
    "ExecuteTime": {
     "end_time": "2020-11-29T19:42:30.515865Z",
     "start_time": "2020-11-29T19:42:30.497870Z"
    },
    "code_folding": [
     0
    ]
   },
   "outputs": [],
   "source": [
    "def cal_diff(ev, honap, nap):\n",
    "    now = datetime.datetime.now()\n",
    "    most_ev = now.year\n",
    "    most_honap = now.month\n",
    "    most_nap = now.day\n",
    "    \n",
    "    eltelt_evek = most_ev - ev\n",
    "    eltelt_napok = eltelt_evek * 365\n",
    "    \n",
    "    szokonapok = 0\n",
    "    while eltelt_evek >= 0:\n",
    "        szokonapok += 1\n",
    "        eltelt_evek -= 4\n",
    "        \n",
    "    eltelt_napok += szokonapok\n",
    "    \n",
    "    if most_honap > honap:\n",
    "        for kul_honap in range(honap, most_honap):\n",
    "            if kul_honap in [1, 3, 5, 7, 8, 10, 12]:\n",
    "                eltelt_napok += 31\n",
    "            elif kul_honap == 2:\n",
    "                eltelt_napok += 28\n",
    "            else:\n",
    "                eltelt_napok += 30\n",
    "    else:\n",
    "        for kul_honap in range(most_honap, honap):\n",
    "            if kul_honap in [1, 3, 5, 7, 8, 10, 12]:\n",
    "                eltelt_napok -= 31\n",
    "            elif kul_honap == 2:\n",
    "                eltelt_napok -= 28\n",
    "            else:\n",
    "                eltelt_napok -= 30\n",
    "        \n",
    "    eltelt_napok += most_nap - nap\n",
    "    \n",
    "    return eltelt_napok\n",
    "\n",
    "def day_diff(inp1, inp2):\n",
    "    return cal_diff(inp1[0], inp1[1], inp1[2]), cal_diff(inp2[0], inp2[1], inp2[2])"
   ]
  },
  {
   "cell_type": "markdown",
   "metadata": {},
   "source": [
    "Először lecsekkoltam pár napot, és nem tűntek jónak. Ezután írtam egy olyan függvényt, ami biztostosan jó megoldást ad. Írtam egy olyan függvény is, ami csekkolja, hogy az own_func vagy a day_diff függvény jól működik-e.\n",
    "\n",
    "**Itt tudod csekkolni a szökőévek számát:** https://miniwebtool.com/leap-years-list/?start_year=1670&end_year=2020\n",
    "\n",
    "**Itt pedig az eltelt napokat:** https://www.calculator.net/date-calculator.html?today=01%2F01%2F1670&ageat=11%2F28%2F2020&calctype=diff&useholiday=1&hdny=1&hdml=1&hdpd=1&hdmd=1&hdid=1&hdld=1&hdcd=1&hdvd=1&hdtx=1&hdxm=1&n0=&m0=&d0=&n1=&m1=&d1=&n2=&m2=&d2=&n3=&m3=&d3=&n4=&m4=&d4=&n5=&m5=&d5=&n6=&m6=&d6=&n7=&m7=&d7=&n8=&m8=&d8=&n9=&m9=&d9=&n10=&m10=&d10=&n11=&m11=&d11=&n12=&m12=&d12=&n13=&m13=&d13=&n14=&m14=&d14=&n15=&m15=&d15=&n16=&m16=&d16=&n17=&m17=&d17=&n18=&m18=&d18=&n19=&m19=&d19=&x=81&y=30"
   ]
  },
  {
   "cell_type": "code",
   "execution_count": 359,
   "metadata": {
    "ExecuteTime": {
     "end_time": "2020-11-29T19:42:33.225925Z",
     "start_time": "2020-11-29T19:42:33.204929Z"
    },
    "code_folding": [
     2,
     17
    ]
   },
   "outputs": [],
   "source": [
    "import datetime\n",
    "\n",
    "def tutijo(inp1, inp2):\n",
    "    \n",
    "    def calc_delta(input_date):\n",
    "        now = datetime.datetime.now()\n",
    "\n",
    "        date = datetime.datetime(*input_date)\n",
    "\n",
    "        delta = now - date\n",
    "\n",
    "        return delta.days\n",
    "\n",
    "    return calc_delta(inp1), calc_delta(inp2)\n",
    "\n",
    "import pandas as pd\n",
    "\n",
    "def check_func(range_n):\n",
    "    chech_table = pd.DataFrame()\n",
    "    chech_table['inp'] = pd.date_range('1/01/1678', '11/29/2020', periods = range_n)\n",
    "    chech_table['inp'] = chech_table['inp'].apply(lambda date: [date.year, date.month, date.day])\n",
    "    chech_table['tutijo'] = chech_table.apply(lambda df: tutijo(df['inp'], df['inp']), axis = 1)\n",
    "    chech_table['own_func'] = chech_table.apply(lambda df: own_func(df['inp'], df['inp']), axis = 1)\n",
    "    chech_table['day_diff'] = chech_table.apply(lambda df: day_diff(df['inp'], df['inp']), axis = 1)\n",
    "    if chech_table['tutijo'].equals(chech_table['own_func']):\n",
    "        print('Own_func jó!')\n",
    "    else:\n",
    "        print('Own_func rossz!')\n",
    "\n",
    "    if chech_table['tutijo'].equals(chech_table['day_diff']):\n",
    "        print('Day_diff jó!')\n",
    "    else:\n",
    "        print('Day_diff rossz!')\n",
    "    return chech_table"
   ]
  },
  {
   "cell_type": "code",
   "execution_count": 360,
   "metadata": {
    "ExecuteTime": {
     "end_time": "2020-11-29T19:42:38.414082Z",
     "start_time": "2020-11-29T19:42:34.768356Z"
    },
    "scrolled": true
   },
   "outputs": [
    {
     "name": "stdout",
     "output_type": "stream",
     "text": [
      "Own_func jó!\n",
      "Day_diff rossz!\n"
     ]
    },
    {
     "data": {
      "text/html": [
       "<div>\n",
       "<style scoped>\n",
       "    .dataframe tbody tr th:only-of-type {\n",
       "        vertical-align: middle;\n",
       "    }\n",
       "\n",
       "    .dataframe tbody tr th {\n",
       "        vertical-align: top;\n",
       "    }\n",
       "\n",
       "    .dataframe thead th {\n",
       "        text-align: right;\n",
       "    }\n",
       "</style>\n",
       "<table border=\"1\" class=\"dataframe\">\n",
       "  <thead>\n",
       "    <tr style=\"text-align: right;\">\n",
       "      <th></th>\n",
       "      <th>inp</th>\n",
       "      <th>tutijo</th>\n",
       "      <th>own_func</th>\n",
       "      <th>day_diff</th>\n",
       "    </tr>\n",
       "  </thead>\n",
       "  <tbody>\n",
       "    <tr>\n",
       "      <th>0</th>\n",
       "      <td>[1678, 1, 1]</td>\n",
       "      <td>(125245, 125245)</td>\n",
       "      <td>(125245, 125245)</td>\n",
       "      <td>(125248, 125248)</td>\n",
       "    </tr>\n",
       "    <tr>\n",
       "      <th>1</th>\n",
       "      <td>[1678, 5, 6]</td>\n",
       "      <td>(125120, 125120)</td>\n",
       "      <td>(125120, 125120)</td>\n",
       "      <td>(125123, 125123)</td>\n",
       "    </tr>\n",
       "    <tr>\n",
       "      <th>2</th>\n",
       "      <td>[1678, 9, 8]</td>\n",
       "      <td>(124995, 124995)</td>\n",
       "      <td>(124995, 124995)</td>\n",
       "      <td>(124998, 124998)</td>\n",
       "    </tr>\n",
       "    <tr>\n",
       "      <th>3</th>\n",
       "      <td>[1679, 1, 12]</td>\n",
       "      <td>(124869, 124869)</td>\n",
       "      <td>(124869, 124869)</td>\n",
       "      <td>(124872, 124872)</td>\n",
       "    </tr>\n",
       "    <tr>\n",
       "      <th>4</th>\n",
       "      <td>[1679, 5, 17]</td>\n",
       "      <td>(124744, 124744)</td>\n",
       "      <td>(124744, 124744)</td>\n",
       "      <td>(124747, 124747)</td>\n",
       "    </tr>\n",
       "    <tr>\n",
       "      <th>...</th>\n",
       "      <td>...</td>\n",
       "      <td>...</td>\n",
       "      <td>...</td>\n",
       "      <td>...</td>\n",
       "    </tr>\n",
       "    <tr>\n",
       "      <th>995</th>\n",
       "      <td>[1970, 4, 12]</td>\n",
       "      <td>(18494, 18494)</td>\n",
       "      <td>(18494, 18494)</td>\n",
       "      <td>(18494, 18494)</td>\n",
       "    </tr>\n",
       "    <tr>\n",
       "      <th>996</th>\n",
       "      <td>[1970, 4, 12]</td>\n",
       "      <td>(18494, 18494)</td>\n",
       "      <td>(18494, 18494)</td>\n",
       "      <td>(18494, 18494)</td>\n",
       "    </tr>\n",
       "    <tr>\n",
       "      <th>997</th>\n",
       "      <td>[1970, 4, 12]</td>\n",
       "      <td>(18494, 18494)</td>\n",
       "      <td>(18494, 18494)</td>\n",
       "      <td>(18494, 18494)</td>\n",
       "    </tr>\n",
       "    <tr>\n",
       "      <th>998</th>\n",
       "      <td>[1970, 4, 12]</td>\n",
       "      <td>(18494, 18494)</td>\n",
       "      <td>(18494, 18494)</td>\n",
       "      <td>(18494, 18494)</td>\n",
       "    </tr>\n",
       "    <tr>\n",
       "      <th>999</th>\n",
       "      <td>[1970, 4, 12]</td>\n",
       "      <td>(18494, 18494)</td>\n",
       "      <td>(18494, 18494)</td>\n",
       "      <td>(18494, 18494)</td>\n",
       "    </tr>\n",
       "  </tbody>\n",
       "</table>\n",
       "<p>1000 rows × 4 columns</p>\n",
       "</div>"
      ],
      "text/plain": [
       "               inp            tutijo          own_func          day_diff\n",
       "0     [1678, 1, 1]  (125245, 125245)  (125245, 125245)  (125248, 125248)\n",
       "1     [1678, 5, 6]  (125120, 125120)  (125120, 125120)  (125123, 125123)\n",
       "2     [1678, 9, 8]  (124995, 124995)  (124995, 124995)  (124998, 124998)\n",
       "3    [1679, 1, 12]  (124869, 124869)  (124869, 124869)  (124872, 124872)\n",
       "4    [1679, 5, 17]  (124744, 124744)  (124744, 124744)  (124747, 124747)\n",
       "..             ...               ...               ...               ...\n",
       "995  [1970, 4, 12]    (18494, 18494)    (18494, 18494)    (18494, 18494)\n",
       "996  [1970, 4, 12]    (18494, 18494)    (18494, 18494)    (18494, 18494)\n",
       "997  [1970, 4, 12]    (18494, 18494)    (18494, 18494)    (18494, 18494)\n",
       "998  [1970, 4, 12]    (18494, 18494)    (18494, 18494)    (18494, 18494)\n",
       "999  [1970, 4, 12]    (18494, 18494)    (18494, 18494)    (18494, 18494)\n",
       "\n",
       "[1000 rows x 4 columns]"
      ]
     },
     "execution_count": 360,
     "metadata": {},
     "output_type": "execute_result"
    }
   ],
   "source": [
    "chech_table = check_func(1000)\n",
    "\n",
    "chech_table"
   ]
  },
  {
   "cell_type": "markdown",
   "metadata": {},
   "source": [
    "Ha jobban átnézzük látható, hogy **minden 4-el osztható évet szökőévnek vesz, holott a 100-al osztható, de 400-al nem oszható évek nem szökőévek.**\n",
    "\n",
    "A szökőév hiba miatt, ha belevesszük az 1900-as évet, akkor már lesz egy nap eltérés. Ha 1800-at is, akkor már 2 nap a különbség és így tovább. "
   ]
  },
  {
   "cell_type": "markdown",
   "metadata": {},
   "source": [
    "-------------------------"
   ]
  },
  {
   "cell_type": "markdown",
   "metadata": {},
   "source": [
    "Ezek alapján a lenti módosítást ajánlom a func.py cal_diff függvényében:"
   ]
  },
  {
   "cell_type": "code",
   "execution_count": 361,
   "metadata": {
    "ExecuteTime": {
     "end_time": "2020-11-29T19:42:47.169397Z",
     "start_time": "2020-11-29T19:42:47.146397Z"
    }
   },
   "outputs": [],
   "source": [
    "def cal_diff(ev, honap, nap):\n",
    "    now = datetime.datetime.now()\n",
    "    most_ev = now.year\n",
    "    most_honap = now.month\n",
    "    most_nap = now.day\n",
    "    \n",
    "    eltelt_evek = most_ev - ev\n",
    "    eltelt_napok = eltelt_evek * 365\n",
    "    \n",
    "    szokoev = lambda ev: (ev % 4 == 0 and ev % 100 != 0) or (ev % 400 == 0)\n",
    "    szokonapok = len([*filter(szokoev, [*range(ev + 1, most_ev)])])\n",
    "    \n",
    "    if szokoev(most_ev) and most_honap > 2:\n",
    "        szokonapok += 1\n",
    "    \n",
    "    if szokoev(ev) and honap < 3:\n",
    "        szokonapok += 1\n",
    "        \n",
    "#     szokonapok = 0\n",
    "#     while eltelt_evek >= 0:\n",
    "#         szokonapok += 1\n",
    "#         eltelt_evek -= 4\n",
    "#     print(szokonapok)\n",
    "    eltelt_napok += szokonapok\n",
    "    \n",
    "    if most_honap > honap:\n",
    "        for kul_honap in range(honap, most_honap):\n",
    "            if kul_honap in [1, 3, 5, 7, 8, 10, 12]:\n",
    "                eltelt_napok += 31\n",
    "            elif kul_honap == 2:\n",
    "                eltelt_napok += 28\n",
    "            else:\n",
    "                eltelt_napok += 30\n",
    "    else:\n",
    "        for kul_honap in range(most_honap, honap):\n",
    "            if kul_honap in [1, 3, 5, 7, 8, 10, 12]:\n",
    "                eltelt_napok -= 31\n",
    "            elif kul_honap == 2:\n",
    "                eltelt_napok -= 28\n",
    "            else:\n",
    "                eltelt_napok -= 30\n",
    "        \n",
    "    eltelt_napok += most_nap - nap\n",
    "    \n",
    "    return eltelt_napok"
   ]
  },
  {
   "cell_type": "markdown",
   "metadata": {},
   "source": [
    "Így már mindkét megoldás helyes"
   ]
  },
  {
   "cell_type": "code",
   "execution_count": 362,
   "metadata": {
    "ExecuteTime": {
     "end_time": "2020-11-29T19:42:52.645165Z",
     "start_time": "2020-11-29T19:42:47.913745Z"
    }
   },
   "outputs": [
    {
     "name": "stdout",
     "output_type": "stream",
     "text": [
      "Own_func jó!\n",
      "Day_diff jó!\n"
     ]
    },
    {
     "data": {
      "text/html": [
       "<div>\n",
       "<style scoped>\n",
       "    .dataframe tbody tr th:only-of-type {\n",
       "        vertical-align: middle;\n",
       "    }\n",
       "\n",
       "    .dataframe tbody tr th {\n",
       "        vertical-align: top;\n",
       "    }\n",
       "\n",
       "    .dataframe thead th {\n",
       "        text-align: right;\n",
       "    }\n",
       "</style>\n",
       "<table border=\"1\" class=\"dataframe\">\n",
       "  <thead>\n",
       "    <tr style=\"text-align: right;\">\n",
       "      <th></th>\n",
       "      <th>inp</th>\n",
       "      <th>tutijo</th>\n",
       "      <th>own_func</th>\n",
       "      <th>day_diff</th>\n",
       "    </tr>\n",
       "  </thead>\n",
       "  <tbody>\n",
       "    <tr>\n",
       "      <th>0</th>\n",
       "      <td>[1678, 1, 1]</td>\n",
       "      <td>(125245, 125245)</td>\n",
       "      <td>(125245, 125245)</td>\n",
       "      <td>(125245, 125245)</td>\n",
       "    </tr>\n",
       "    <tr>\n",
       "      <th>1</th>\n",
       "      <td>[1678, 5, 6]</td>\n",
       "      <td>(125120, 125120)</td>\n",
       "      <td>(125120, 125120)</td>\n",
       "      <td>(125120, 125120)</td>\n",
       "    </tr>\n",
       "    <tr>\n",
       "      <th>2</th>\n",
       "      <td>[1678, 9, 8]</td>\n",
       "      <td>(124995, 124995)</td>\n",
       "      <td>(124995, 124995)</td>\n",
       "      <td>(124995, 124995)</td>\n",
       "    </tr>\n",
       "    <tr>\n",
       "      <th>3</th>\n",
       "      <td>[1679, 1, 12]</td>\n",
       "      <td>(124869, 124869)</td>\n",
       "      <td>(124869, 124869)</td>\n",
       "      <td>(124869, 124869)</td>\n",
       "    </tr>\n",
       "    <tr>\n",
       "      <th>4</th>\n",
       "      <td>[1679, 5, 17]</td>\n",
       "      <td>(124744, 124744)</td>\n",
       "      <td>(124744, 124744)</td>\n",
       "      <td>(124744, 124744)</td>\n",
       "    </tr>\n",
       "    <tr>\n",
       "      <th>...</th>\n",
       "      <td>...</td>\n",
       "      <td>...</td>\n",
       "      <td>...</td>\n",
       "      <td>...</td>\n",
       "    </tr>\n",
       "    <tr>\n",
       "      <th>995</th>\n",
       "      <td>[1970, 4, 12]</td>\n",
       "      <td>(18494, 18494)</td>\n",
       "      <td>(18494, 18494)</td>\n",
       "      <td>(18494, 18494)</td>\n",
       "    </tr>\n",
       "    <tr>\n",
       "      <th>996</th>\n",
       "      <td>[1970, 4, 12]</td>\n",
       "      <td>(18494, 18494)</td>\n",
       "      <td>(18494, 18494)</td>\n",
       "      <td>(18494, 18494)</td>\n",
       "    </tr>\n",
       "    <tr>\n",
       "      <th>997</th>\n",
       "      <td>[1970, 4, 12]</td>\n",
       "      <td>(18494, 18494)</td>\n",
       "      <td>(18494, 18494)</td>\n",
       "      <td>(18494, 18494)</td>\n",
       "    </tr>\n",
       "    <tr>\n",
       "      <th>998</th>\n",
       "      <td>[1970, 4, 12]</td>\n",
       "      <td>(18494, 18494)</td>\n",
       "      <td>(18494, 18494)</td>\n",
       "      <td>(18494, 18494)</td>\n",
       "    </tr>\n",
       "    <tr>\n",
       "      <th>999</th>\n",
       "      <td>[1970, 4, 12]</td>\n",
       "      <td>(18494, 18494)</td>\n",
       "      <td>(18494, 18494)</td>\n",
       "      <td>(18494, 18494)</td>\n",
       "    </tr>\n",
       "  </tbody>\n",
       "</table>\n",
       "<p>1000 rows × 4 columns</p>\n",
       "</div>"
      ],
      "text/plain": [
       "               inp            tutijo          own_func          day_diff\n",
       "0     [1678, 1, 1]  (125245, 125245)  (125245, 125245)  (125245, 125245)\n",
       "1     [1678, 5, 6]  (125120, 125120)  (125120, 125120)  (125120, 125120)\n",
       "2     [1678, 9, 8]  (124995, 124995)  (124995, 124995)  (124995, 124995)\n",
       "3    [1679, 1, 12]  (124869, 124869)  (124869, 124869)  (124869, 124869)\n",
       "4    [1679, 5, 17]  (124744, 124744)  (124744, 124744)  (124744, 124744)\n",
       "..             ...               ...               ...               ...\n",
       "995  [1970, 4, 12]    (18494, 18494)    (18494, 18494)    (18494, 18494)\n",
       "996  [1970, 4, 12]    (18494, 18494)    (18494, 18494)    (18494, 18494)\n",
       "997  [1970, 4, 12]    (18494, 18494)    (18494, 18494)    (18494, 18494)\n",
       "998  [1970, 4, 12]    (18494, 18494)    (18494, 18494)    (18494, 18494)\n",
       "999  [1970, 4, 12]    (18494, 18494)    (18494, 18494)    (18494, 18494)\n",
       "\n",
       "[1000 rows x 4 columns]"
      ]
     },
     "execution_count": 362,
     "metadata": {},
     "output_type": "execute_result"
    }
   ],
   "source": [
    "chech_table = check_func(1000)\n",
    "\n",
    "chech_table"
   ]
  }
 ],
 "metadata": {
  "hide_input": false,
  "kernelspec": {
   "display_name": "Python 3",
   "language": "python",
   "name": "python3"
  },
  "language_info": {
   "codemirror_mode": {
    "name": "ipython",
    "version": 3
   },
   "file_extension": ".py",
   "mimetype": "text/x-python",
   "name": "python",
   "nbconvert_exporter": "python",
   "pygments_lexer": "ipython3",
   "version": "3.8.6"
  },
  "toc": {
   "base_numbering": 1,
   "nav_menu": {},
   "number_sections": true,
   "sideBar": true,
   "skip_h1_title": false,
   "title_cell": "Table of Contents",
   "title_sidebar": "Contents",
   "toc_cell": false,
   "toc_position": {},
   "toc_section_display": true,
   "toc_window_display": false
  },
  "varInspector": {
   "cols": {
    "lenName": 16,
    "lenType": 16,
    "lenVar": 40
   },
   "kernels_config": {
    "python": {
     "delete_cmd_postfix": "",
     "delete_cmd_prefix": "del ",
     "library": "var_list.py",
     "varRefreshCmd": "print(var_dic_list())"
    },
    "r": {
     "delete_cmd_postfix": ") ",
     "delete_cmd_prefix": "rm(",
     "library": "var_list.r",
     "varRefreshCmd": "cat(var_dic_list()) "
    }
   },
   "types_to_exclude": [
    "module",
    "function",
    "builtin_function_or_method",
    "instance",
    "_Feature"
   ],
   "window_display": false
  }
 },
 "nbformat": 4,
 "nbformat_minor": 2
}
