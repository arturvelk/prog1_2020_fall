{
 "cells": [
  {
   "cell_type": "markdown",
   "metadata": {},
   "source": [
    "### feladat: írjatok egy függvényt, ami:\n",
    "- egy string-et fogad paraméternek\n",
    "- **kitörli belőle az összes abc-ben szereplő** karaktert, tehát csak a **speciális karaktereket hagyja meg**\n",
    "- és ez a módosított string a visszatérési értéke"
   ]
  },
  {
   "cell_type": "markdown",
   "metadata": {},
   "source": [
    "----------------------------"
   ]
  },
  {
   "cell_type": "markdown",
   "metadata": {},
   "source": [
    "**ez lesz a függvény paramétere (futtasátok a cellát Ctrl + Enter-rel)**"
   ]
  },
  {
   "cell_type": "code",
   "execution_count": 58,
   "metadata": {},
   "outputs": [],
   "source": [
    "input_string = open('input_string.txt').read()[:-1]"
   ]
  },
  {
   "cell_type": "markdown",
   "metadata": {},
   "source": [
    "**ennél pedig remélhetőleg írtok egy jobb függvényt :)**\n",
    "\n",
    "utána az előzőhöz hasonlóan futtassátok a cellát Ctrl+Enter-rel"
   ]
  },
  {
   "cell_type": "markdown",
   "metadata": {},
   "source": [
    "----------------------------"
   ]
  },
  {
   "cell_type": "code",
   "execution_count": 59,
   "metadata": {},
   "outputs": [],
   "source": [
    "def own_func(p):\n",
    "    \n",
    "    abc =['a', 'b', 'c', 'd', 'e', 'f', 'g', 'h', 'i', 'j', 'k', 'l', 'm', 'n', 'o', 'p', 'q', 'r', 's', 't', 'u', 'v', 'w', 'x', 'y', 'z']\n",
    "    a = str(p)\n",
    "    b = list(a)\n",
    "    c = []\n",
    "    d = \"\"\n",
    "    for i in b:\n",
    "        if i not in abc:\n",
    "            c.append(i)\n",
    "    for i in c:\n",
    "        d += i\n",
    "    return d"
   ]
  },
  {
   "cell_type": "markdown",
   "metadata": {},
   "source": [
    "### itt tudjátok leellenőrizni, hogy jó-e a függvény, amit írtatok\n",
    "\n",
    "- az own_func helyére írjátok be a saját függvényetek nevét\n",
    "- a p helyére tetszőleges paramétert, amivel ellenőrzitek a függvényt\n",
    "- futtassátok a cellát Ctrl + Enter-rel!"
   ]
  },
  {
   "cell_type": "code",
   "execution_count": 60,
   "metadata": {},
   "outputs": [
    {
     "name": "stdout",
     "output_type": "stream",
     "text": [
      "Gratulálok! Megoldottad a feladatot!\n"
     ]
    }
   ],
   "source": [
    "from func import check_rem\n",
    "check_rem(own_func, input_string)"
   ]
  },
  {
   "cell_type": "code",
   "execution_count": null,
   "metadata": {},
   "outputs": [],
   "source": []
  }
 ],
 "metadata": {
  "kernelspec": {
   "display_name": "Python 3",
   "language": "python",
   "name": "python3"
  },
  "language_info": {
   "codemirror_mode": {
    "name": "ipython",
    "version": 3
   },
   "file_extension": ".py",
   "mimetype": "text/x-python",
   "name": "python",
   "nbconvert_exporter": "python",
   "pygments_lexer": "ipython3",
   "version": "3.8.3"
  }
 },
 "nbformat": 4,
 "nbformat_minor": 2
}
